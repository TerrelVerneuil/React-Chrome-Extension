{
 "cells": [
  {
   "cell_type": "markdown",
   "metadata": {
    "collapsed": false
   },
   "source": [
    "# Numpy\n",
    "\n",
    "Learning Objectives:\n",
    "* Students will gain understanding of the motivation for numpy ndarray objects as a computationally efficient alternative to Python lists.\n",
    "* Students will practice basic indexing, slicing, concatenating, and splitting operations on numpy ndarrays.\n",
    "* Students will practice basic application of universal functions, aggregation functions, and broadcasting on ndarray broadcasting.\n",
    "\n",
    "Readings before class:\n",
    "\n",
    "* Jake VanderPlas.  [Python Data Science Handbook](https://jakevdp.github.io/PythonDataScienceHandbook/):\n",
    "  * [Chapter 2 - Introduction to Numpy through section \"Computation on Arrays: Broadcasting\"](https://jakevdp.github.io/PythonDataScienceHandbook/) _If you have time to read further, you'll benefit from seeing some of the masking and sorting computation examples that follow.  In this course, we will primarily use pandas DataFrame objects for computations on data._\n",
    "\n",
    "Before class:\n",
    "* Perform the **To-Do** tasks below as you do the reading.  You are encouraged to add code blocks and play with the forms to gain understanding and comfort with them.\n",
    "\n",
    "In class:\n",
    "* We will work together on the exercises in section \"In Class\".\n",
    "\n",
    "Homework after class:\n",
    "* Complete the section labeled \"Homework\" below before the next class when it will be collected."
   ]
  },
  {
   "cell_type": "code",
   "execution_count": 8,
   "metadata": {
    "collapsed": false
   },
   "outputs": [],
   "source": [
    "# Place your imports here.\n",
    "\n",
    "import numpy as np\n",
    "import pandas as pd\n",
    "np.random.seed(0)  # seed for reproducibility\n"
   ]
  },
  {
   "cell_type": "markdown",
   "metadata": {
    "collapsed": false
   },
   "source": [
    "## Motivations\n",
    "\n",
    "One thing you may have noticed is that there are a number of ways to represent a sequence of numbers:"
   ]
  },
  {
   "cell_type": "code",
   "execution_count": 9,
   "metadata": {
    "collapsed": false
   },
   "outputs": [
    {
     "name": "stdout",
     "output_type": "stream",
     "text": [
      "Python list\n",
      "[1, 2, 3] <class 'list'>\n",
      "--> numpy ndarray\n",
      "[1 2 3] <class 'numpy.ndarray'>\n",
      "--> pandas Series\n",
      "0    1\n",
      "1    2\n",
      "2    3\n",
      "dtype: int32 <class 'pandas.core.series.Series'>\n",
      "--> pandas DataFrame\n",
      "   0\n",
      "0  1\n",
      "1  2\n",
      "2  3 <class 'pandas.core.frame.DataFrame'>\n",
      "--> pandas Series\n",
      "0    1\n",
      "1    2\n",
      "2    3\n",
      "Name: 0, dtype: int32 <class 'pandas.core.series.Series'>\n",
      "--> numpy ndarray\n",
      "[1 2 3] <class 'numpy.ndarray'>\n",
      "--> Python list\n",
      "[1, 2, 3] <class 'list'>\n"
     ]
    }
   ],
   "source": [
    "print('Python list')\n",
    "# Python list\n",
    "l = [1, 2, 3]\n",
    "print(l, type(l))\n",
    "\n",
    "print('--> numpy ndarray')\n",
    "# Python list to numpy ndarray\n",
    "a = np.asarray(l)\n",
    "print(a, type(a))\n",
    "\n",
    "print('--> pandas Series')\n",
    "# numpy ndarray to pandas Series\n",
    "s = pd.Series(a)\n",
    "print(s, type(s))\n",
    "\n",
    "print('--> pandas DataFrame')\n",
    "# pandas Series to pandas DataFrame\n",
    "df = pd.DataFrame(s)\n",
    "print(df, type(df))\n",
    "\n",
    "print('--> pandas Series')\n",
    "# pandas DataFrame to pandas Series\n",
    "s = df[0]\n",
    "print(s, type(s))\n",
    "\n",
    "print('--> numpy ndarray')\n",
    "# pandas Series to numpy ndarray\n",
    "a = np.asarray(s)\n",
    "print(a, type(a))\n",
    "\n",
    "print('--> Python list')\n",
    "# numpy ndarray to Python list\n",
    "l = a.tolist()\n",
    "print(l, type(l))"
   ]
  },
  {
   "cell_type": "markdown",
   "metadata": {
    "collapsed": false
   },
   "source": [
    "In this chapter and the next of VanderPlas' text, we will come to a better understanding of why there is a distinctive benefit to having these forms.  The short answer is that Python list versatility trades off computational efficiency.  The numpy library gives us higher performance multidimensional arrays with efficient operations over homogenous data.  Pandas builds on top of numpy ndarrays to provide support for tabular data and versatile table operations.  Here we summarize the motivation for numpy.\n",
    "\n",
    "Python is a dynamically typed language, meaning that the type of a variable is determined dynamically according to what value is currently assigned to it.  This means that each value is a reference to an object that contains not only the data, but the data type, size, number of variables that reference it (the \"reference count\", so that the memory can be reclaimed or \"garbage collected\" when the count goes to zero), all in addition to the data itself!  This makes iterative operations through lists much slower than in other languages like C, C++ and Java.\n",
    "\n",
    "Numpy allows a programmer to create an array of a single type of data so that there is informational overhead only for the list itself, and data is stored as a list of just the data itself.  A picture of this different is provided by VanderPlas:\n",
    "\n",
    "![ndarray versus Python list](https://jakevdp.github.io/PythonDataScienceHandbook/figures/array_vs_list.png)\n",
    "\n",
    "Much of the reading is how to perform various tasks.  The best way to learn is through practiced application.  Before class, in class, and after class in homework, you will exercise the core skills of the reading.  First, however, are questions best answered by well-formed web search queries.\n",
    "\n",
    "**To-Do: Look up and perform the following additional conversions.**"
   ]
  },
  {
   "cell_type": "code",
   "execution_count": 10,
   "metadata": {
    "collapsed": false
   },
   "outputs": [
    {
     "name": "stdout",
     "output_type": "stream",
     "text": [
      "0    1\n",
      "1    2\n",
      "2    3\n",
      "dtype: int64 <class 'pandas.core.series.Series'>\n",
      "[1, 2, 3] <class 'list'>\n"
     ]
    }
   ],
   "source": [
    "import numpy as np\n",
    "import pandas as pd\n",
    "l = [1, 2, 3]\n",
    "\n",
    "# Convert Python list l as directly as possible to a pandas Series s.\n",
    "s = pd.Series(l)\n",
    "print(s, type(s))\n",
    "\n",
    "\n",
    "# Convert pandas Series s as directly as possible to a Python list.\n",
    "l = s.tolist()\n",
    "print(l, type(l))\n"
   ]
  },
  {
   "cell_type": "markdown",
   "metadata": {
    "collapsed": false
   },
   "source": [
    "### Creating Arrays from Scratch\n",
    "\n",
    "**To-Do: Initialize the following numpy arrays in the simplest way possible and print the result to verify correctness.**"
   ]
  },
  {
   "cell_type": "code",
   "execution_count": 11,
   "metadata": {
    "collapsed": false,
    "scrolled": true
   },
   "outputs": [],
   "source": [
    "# Create and print numpy ndarray of 20 integer zeros.\n",
    "\n",
    "\n",
    "\n",
    "# Create and print an array filled with -24, -21, -18, ..., 18, 21, 24.\n",
    "\n",
    "\n",
    "\n",
    "# Create and print a 4-by-4 array of normally distributed random values with mean 10 and standard deviation 5.\n",
    "\n",
    "\n",
    "\n",
    "# Create and print an uninitialized array of 20 integers.\n",
    "\n"
   ]
  },
  {
   "cell_type": "markdown",
   "metadata": {
    "collapsed": false
   },
   "source": [
    "### Numpy Array Attributes\n",
    "\n",
    "**To-Do:**"
   ]
  },
  {
   "cell_type": "code",
   "execution_count": 12,
   "metadata": {
    "collapsed": false
   },
   "outputs": [],
   "source": [
    "# Create and print a 2-by-3-by-4 array filled with 1.23.\n",
    "\n",
    "\n",
    "\n",
    "# Use members of that array to print the number of dimensions, shape (size of each dimension), size (total count of values), and type.\n",
    "\n"
   ]
  },
  {
   "cell_type": "markdown",
   "metadata": {
    "collapsed": false
   },
   "source": [
    "### No-copy and copy views\n",
    "\n",
    "**To-Do:**"
   ]
  },
  {
   "cell_type": "code",
   "execution_count": 13,
   "metadata": {
    "collapsed": false
   },
   "outputs": [
    {
     "name": "stdout",
     "output_type": "stream",
     "text": [
      "[[ 1  2  3  4]\n",
      " [ 5  6  7  8]\n",
      " [ 9 10 11 12]\n",
      " [13 14 15 16]]\n"
     ]
    }
   ],
   "source": [
    "a = np.arange(1, 17).reshape((4, 4))\n",
    "print(a)\n",
    "\n",
    "# Create a copy 'c' of a view of the middle two columns of array 'c'.\n",
    "\n",
    "\n",
    "\n",
    "# Assign the first row, first column of 'c' to value 42.  Print 'c' and 'a' to show that the change to copy 'c' didn't affect original 'a'.\n",
    "\n",
    "\n",
    "\n",
    "# Create a non-copy 'nc' of a view of the middle two rows of array 'a'.\n",
    "\n",
    "\n",
    "\n",
    "# Use negative indexing to assign the last row and column of 'nc' to 0.  Print 'nc' and 'a' to show that the change to no-copy slice 'nc' affected original 'a'.\n",
    "\n"
   ]
  },
  {
   "cell_type": "markdown",
   "metadata": {
    "collapsed": false
   },
   "source": [
    "### Array Splitting\n",
    "\n",
    "**To-Do:**"
   ]
  },
  {
   "cell_type": "code",
   "execution_count": 14,
   "metadata": {
    "collapsed": false
   },
   "outputs": [
    {
     "name": "stdout",
     "output_type": "stream",
     "text": [
      "[0 1 2 3 4 5 6 7 8 9]\n",
      "[[ 1  2  3  4]\n",
      " [ 5  6  7  8]\n",
      " [ 9 10 11 12]\n",
      " [13 14 15 16]]\n"
     ]
    }
   ],
   "source": [
    "a = np.arange(0, 10)\n",
    "print(a)\n",
    "a2 = np.arange(1, 17).reshape((4, 4))\n",
    "print(a2)\n",
    "\n",
    "# Assign arrays 'b', 'c', and 'd' to be a split of 'a' at indices 3 and 7.  Print 'b', 'c', and 'd'.\n",
    "\n",
    "\n",
    "\n",
    "# Print the result of splitting a2 into its first column and last three columns.\n",
    "\n",
    "\n",
    "\n",
    "# Print the result of splitting a2 into its first three rows and its last row.\n",
    "\n",
    "\n"
   ]
  },
  {
   "cell_type": "markdown",
   "metadata": {
    "collapsed": false
   },
   "source": [
    "### Aggregation\n",
    "\n",
    "**To-Do:**"
   ]
  },
  {
   "cell_type": "code",
   "execution_count": 15,
   "metadata": {
    "collapsed": false
   },
   "outputs": [],
   "source": [
    "a = np.array([32, 8, 2])\n",
    "\n",
    "# Use numpy aggregation to print the sum of the values of 'a'.\n",
    "\n",
    "\n",
    "# Use numpy aggregation to print the accumulated values that were partial sums on the way to the previous result ([32 40 42]).\n",
    "\n",
    "\n",
    "# Use numpy aggregation to print the product of the values of 'a'.\n",
    "\n"
   ]
  },
  {
   "cell_type": "markdown",
   "metadata": {
    "collapsed": false
   },
   "source": [
    "# In Class\n",
    "\n",
    "First, check your pre-class work above with each other.\n",
    "\n",
    "Then, work together to complete the following exercises.\n",
    "\n",
    "Look up and perform the following additional conversions."
   ]
  },
  {
   "cell_type": "code",
   "execution_count": 16,
   "metadata": {
    "collapsed": false,
    "scrolled": true
   },
   "outputs": [],
   "source": [
    "a = np.array([1, 2, 3])\n",
    "\n",
    "# Convert numpy ndarray a as directly as possible to a pandas Dataframe df.  Print the result and the type.\n",
    "\n",
    "\n",
    "\n",
    "# Convert pandas Dataframe df as directly as possible to a numpy ndarray a.  Print the result and the type.\n",
    "\n"
   ]
  },
  {
   "cell_type": "markdown",
   "metadata": {
    "collapsed": false
   },
   "source": [
    "### Creating Arrays from Scratch"
   ]
  },
  {
   "cell_type": "code",
   "execution_count": 17,
   "metadata": {
    "collapsed": false
   },
   "outputs": [],
   "source": [
    "# Create and print numpy ndarray of 15 floating-point ones.\n",
    "\n",
    "\n",
    "\n",
    "# Create and print an array of 10 values evenly spaced between -5 and 5\n",
    "\n",
    "\n",
    "\n",
    "# Create and print a 3-by-11 array of random integers in from -1 to 1 inclusive.\n",
    "\n"
   ]
  },
  {
   "cell_type": "markdown",
   "metadata": {
    "collapsed": false
   },
   "source": [
    "### Array Indexing: Accessing Single Elements"
   ]
  },
  {
   "cell_type": "code",
   "execution_count": 18,
   "metadata": {
    "collapsed": false
   },
   "outputs": [],
   "source": [
    "# Create and print a 4-by-4 numpy array with values 1 through 16 left-to-right, top-to-bottom.\n",
    "\n",
    "\n",
    "\n",
    "# Change the entry in the second row and third column to be 20.  Print the array.\n",
    "\n",
    "\n",
    "\n",
    "# Use negative indexing to set the entry in the second to last row and second to last column to be 0.  Print the array.\n",
    "\n"
   ]
  },
  {
   "cell_type": "markdown",
   "metadata": {
    "collapsed": false
   },
   "source": [
    "### Array slicing: One-dimensional subarrays"
   ]
  },
  {
   "cell_type": "code",
   "execution_count": 19,
   "metadata": {
    "collapsed": false
   },
   "outputs": [],
   "source": [
    "# Create and print an array with integer values 0 through 9 using function arange.\n",
    "\n",
    "\n",
    "\n",
    "# Use array slicing to slice subrange indices 5 through 7 inclusive and print the slice.\n",
    "\n",
    "\n",
    "\n",
    "# Use array slicing to slice all even index values and print the slice.\n",
    "\n",
    "\n",
    "\n",
    "# Use a negative step with slicing to print the array reversed.  Omit any slicing values that you can.\n",
    "\n"
   ]
  },
  {
   "cell_type": "markdown",
   "metadata": {
    "collapsed": false
   },
   "source": [
    "### Reshaping Arrays"
   ]
  },
  {
   "cell_type": "code",
   "execution_count": 20,
   "metadata": {
    "collapsed": false
   },
   "outputs": [
    {
     "name": "stdout",
     "output_type": "stream",
     "text": [
      "[[ 1  2  3  4]\n",
      " [ 5  6  7  8]\n",
      " [ 9 10 11 12]\n",
      " [13 14 15 16]]\n"
     ]
    }
   ],
   "source": [
    "a = np.arange(1, 17).reshape((4, 4))\n",
    "print(a)\n",
    "\n",
    "# Reshape array 'a' to have 2 rows and 8 columns.  Print the result.\n",
    "\n",
    "\n",
    "\n",
    "# Create a copy 'c' of the first row of reshaped 'a' and reshape it to be a single column.  Print the result.\n",
    "\n",
    "\n",
    "\n",
    "# Do the same with copy 'c2', but using newaxis instead of reshape.\n",
    "\n",
    "\n"
   ]
  },
  {
   "cell_type": "markdown",
   "metadata": {
    "collapsed": false
   },
   "source": [
    "### UFuncs: Universal Functions\n",
    "\n",
    "For each of the following, apply universal functions to perform operations efficiently."
   ]
  },
  {
   "cell_type": "code",
   "execution_count": 21,
   "metadata": {
    "collapsed": false
   },
   "outputs": [
    {
     "name": "stdout",
     "output_type": "stream",
     "text": [
      "[1 2 3]\n"
     ]
    }
   ],
   "source": [
    "a = np.arange(1, 4)\n",
    "print(a)\n",
    "\n",
    "# Print the array of array 'a' value reciprocals.\n",
    "\n",
    "\n",
    "\n",
    "# Print the array formed by adding array 'a' to itself.\n",
    "\n",
    "\n",
    "\n",
    "# Print the array of 5 to the power of each value of 'a'.\n",
    "\n",
    "\n"
   ]
  },
  {
   "cell_type": "markdown",
   "metadata": {
    "collapsed": false
   },
   "source": [
    "### Numpy Aggregation Functions\n",
    "\n",
    "For each of the following, apply Numpy's fast built-in aggregation functions."
   ]
  },
  {
   "cell_type": "code",
   "execution_count": 22,
   "metadata": {
    "collapsed": false
   },
   "outputs": [
    {
     "name": "stdout",
     "output_type": "stream",
     "text": [
      "[[ 1  6  8  9]\n",
      " [13  4  2 14]\n",
      " [10  7 15 11]\n",
      " [ 3  0  5 12]]\n"
     ]
    }
   ],
   "source": [
    "np.random.seed(0)\n",
    "a = np.arange(0,16)\n",
    "np.random.shuffle(a)\n",
    "a = a.reshape((4, 4))\n",
    "print(a)\n",
    "\n",
    "# Use aggregation to print the maximum value of 'a', the maximum values of each row, and the maximum values of each column.\n",
    "\n",
    "\n",
    "\n",
    "# Use aggregation to print the row-based index of the minimum value of 'a'.  The row-based index is the index if we reshaped the array into a single row.\n",
    "\n",
    "\n",
    "\n",
    "# Use aggregation to print the mean of the values of 'a'.\n",
    "\n"
   ]
  },
  {
   "cell_type": "markdown",
   "metadata": {
    "collapsed": false
   },
   "source": [
    "# Homework\n",
    "\n",
    "(0) Complete the in-class exercises.  (This may be done with others beyond your assigned pairs.)\n",
    "\n",
    "(1) Look up and perform the following additional conversions."
   ]
  },
  {
   "cell_type": "code",
   "execution_count": 25,
   "metadata": {
    "collapsed": false
   },
   "outputs": [
    {
     "name": "stdout",
     "output_type": "stream",
     "text": [
      "   0\n",
      "0  1\n",
      "1  2\n",
      "2  3 <class 'pandas.core.frame.DataFrame'>\n",
      "[1, 2, 3]\n"
     ]
    }
   ],
   "source": [
    "l = [1, 2, 3]\n",
    "\n",
    "# Convert Python list l as directly as possible to a pandas Dataframe df.  Print the result and the type.\n",
    "df = pd.DataFrame(l)\n",
    "print(df, type(df))\n",
    "\n",
    "\n",
    "# Convert pandas Dataframe df as directly as possible to a Python list.  Print the result and the type.\n",
    "s = df[0]\n",
    "\n",
    "list = s.tolist()\n",
    "print(list)\n"
   ]
  },
  {
   "cell_type": "markdown",
   "metadata": {
    "collapsed": false
   },
   "source": [
    "(2) Creating Arrays from Scratch"
   ]
  },
  {
   "cell_type": "code",
   "execution_count": 27,
   "metadata": {
    "collapsed": false
   },
   "outputs": [
    {
     "name": "stdout",
     "output_type": "stream",
     "text": [
      "[[42 42 42 42]\n",
      " [42 42 42 42]]\n",
      "[[0.32414101 0.14967487 0.22232139 0.38648898 0.90259848]\n",
      " [0.44994999 0.61306346 0.90234858 0.09928035 0.96980907]\n",
      " [0.65314004 0.17090959 0.35815217 0.75068614 0.60783067]\n",
      " [0.32504723 0.03842543 0.63427406 0.95894927 0.65279032]\n",
      " [0.63505887 0.99529957 0.58185033 0.41436859 0.4746975 ]]\n",
      "[[1. 0. 0. 0. 0.]\n",
      " [0. 1. 0. 0. 0.]\n",
      " [0. 0. 1. 0. 0.]\n",
      " [0. 0. 0. 1. 0.]\n",
      " [0. 0. 0. 0. 1.]]\n"
     ]
    }
   ],
   "source": [
    "# Create and print a 4 row, 2 column numpy array filled with the integer value 42.\n",
    "\n",
    "print(np.full((2, 4), 42))\n",
    "\n",
    "# Create a 5-by-5 array of uniform random numbers in the range [0, 1).\n",
    "\n",
    "print(np.random.random((5, 5)))\n",
    "\n",
    "# Create and print a 5-by-5 identity matrix.\n",
    "print(np.eye(5))\n"
   ]
  },
  {
   "cell_type": "markdown",
   "metadata": {
    "collapsed": false
   },
   "source": [
    "(3) Array slicing: Multidimensional Arrays"
   ]
  },
  {
   "cell_type": "code",
   "execution_count": 37,
   "metadata": {
    "collapsed": false
   },
   "outputs": [
    {
     "name": "stdout",
     "output_type": "stream",
     "text": [
      "[[ 1  2  3  4]\n",
      " [ 5  6  7  8]\n",
      " [ 9 10 11 12]\n",
      " [13 14 15 16]]\n",
      "[[ 6  7]\n",
      " [10 11]]\n",
      "[[ 5  7]\n",
      " [13 15]]\n",
      "[5 6 7 8]\n",
      "[[ 3]\n",
      " [ 7]\n",
      " [11]\n",
      " [15]]\n"
     ]
    }
   ],
   "source": [
    "a = np.arange(1, 17).reshape((4, 4))\n",
    "print(a)\n",
    "\n",
    "# Use array slicing to print the slice of array 'a' with values:\n",
    "#[[ 6  7]\n",
    "# [10 11]]\n",
    "print(a[1:3, 1:3])\n",
    "\n",
    "\n",
    "# Use array slicing to print the slice of array 'a' with values:\n",
    "#[[ 5  7]\n",
    "# [13 15]]\n",
    "\n",
    "print(a[1::2, ::2])\n",
    "\n",
    "# Combine indexing and slicing to print the second row of array 'a':\n",
    "\n",
    "print(a[1])\n",
    "\n",
    "# Combine indexing and slicing to print the third column of array 'a':\n",
    "\n",
    "print(a[::,2:3])\n"
   ]
  },
  {
   "cell_type": "markdown",
   "metadata": {
    "collapsed": false
   },
   "source": [
    "(4) Array concatenation"
   ]
  },
  {
   "cell_type": "code",
   "execution_count": 41,
   "metadata": {
    "collapsed": false
   },
   "outputs": [
    {
     "name": "stdout",
     "output_type": "stream",
     "text": [
      "[[ 1  2  3  4]\n",
      " [ 5  6  7  8]\n",
      " [ 9 10 11 12]\n",
      " [13 14 15 16]]\n",
      "[[ 1  2  3  4]\n",
      " [ 5  6  7  8]\n",
      " [ 9 10 11 12]\n",
      " [13 14 15 16]\n",
      " [ 1  2  3  4]\n",
      " [ 5  6  7  8]\n",
      " [ 9 10 11 12]\n",
      " [13 14 15 16]]\n",
      "[[ 1  2  3  4  1  2  3  4]\n",
      " [ 5  6  7  8  5  6  7  8]\n",
      " [ 9 10 11 12  9 10 11 12]\n",
      " [13 14 15 16 13 14 15 16]]\n"
     ]
    }
   ],
   "source": [
    "a = np.arange(1, 17).reshape((4, 4))\n",
    "print(a)\n",
    "\n",
    "# Print the horizontal (row) concatenation of 'a' with 'a'.\n",
    "\n",
    "print(np.concatenate([a, a], axis=0))\n",
    "\n",
    "# Print the vertical (column) concatenation of 'a' with 'a'.\n",
    "\n",
    "print(np.concatenate([a, a], axis=1))"
   ]
  },
  {
   "cell_type": "markdown",
   "metadata": {
    "collapsed": false
   },
   "source": [
    "(5) UFuncs: Universal Functions\n",
    "\n",
    "For each of the following, apply universal functions to perform operations efficiently."
   ]
  },
  {
   "cell_type": "code",
   "execution_count": 42,
   "metadata": {
    "collapsed": false
   },
   "outputs": [
    {
     "name": "stdout",
     "output_type": "stream",
     "text": [
      "[-0.5  -0.25  0.    0.25]\n",
      "[0.5  0.25 0.   0.25]\n",
      "[0.87758256 0.96891242 1.         0.96891242]\n",
      "[-0.46364761 -0.24497866  0.          0.24497866]\n",
      "[0.31622777 0.56234133 1.         1.77827941]\n"
     ]
    }
   ],
   "source": [
    "a = np.arange(-0.5, 0.5, .25)\n",
    "print(a)\n",
    "\n",
    "# Print the array with absolute values of 'a' values.\n",
    "print(np.abs(a))\n",
    "\n",
    "# Print the array with the cosines of 'a' values.\n",
    "print(np.cos(a))\n",
    "\n",
    "# Print the array with the inverse tangents of 'a' values.\n",
    "print(np.arctan(a))\n",
    "\n",
    "# Print the array with 10 raised to the powers of 'a' values.\n",
    "print(np.power(10, a))\n"
   ]
  },
  {
   "cell_type": "markdown",
   "metadata": {
    "collapsed": false
   },
   "source": [
    "(6) Broadcasting\n",
    "\n",
    "Use broadcasting to perform the following operation:"
   ]
  },
  {
   "cell_type": "code",
   "execution_count": 52,
   "metadata": {
    "collapsed": false
   },
   "outputs": [
    {
     "name": "stdout",
     "output_type": "stream",
     "text": [
      "[1 2 3 4 5 6 7 8 9]\n",
      "[[ 1  2  3  4  5  6  7  8  9]\n",
      " [ 2  4  6  8 10 12 14 16 18]\n",
      " [ 3  6  9 12 15 18 21 24 27]\n",
      " [ 4  8 12 16 20 24 28 32 36]\n",
      " [ 5 10 15 20 25 30 35 40 45]\n",
      " [ 6 12 18 24 30 36 42 48 54]\n",
      " [ 7 14 21 28 35 42 49 56 63]\n",
      " [ 8 16 24 32 40 48 56 64 72]\n",
      " [ 9 18 27 36 45 54 63 72 81]]\n"
     ]
    }
   ],
   "source": [
    "a = np.arange(1, 10)\n",
    "print(a)\n",
    "b = np.arange(10)[:, np.newaxis]\n",
    "\n",
    "# Use broadcasting with 'a' and a column vector of 'a' to print the entries of a multiplication table with 9 rows and 9 columns showing products 1*1 (upper-left) through 9*9 (lower-right).\n",
    "print(a*b[1:])\n"
   ]
  },
  {
   "cell_type": "markdown",
   "metadata": {
    "collapsed": false
   },
   "source": [
    "(end of homework)"
   ]
  }
 ],
 "metadata": {
  "kernelspec": {
   "display_name": "Python 3 (system-wide)",
   "language": "python",
   "metadata": {
    "cocalc": {
     "description": "Python 3 programming language",
     "priority": 100,
     "url": "https://www.python.org/"
    }
   },
   "name": "python3"
  },
  "language_info": {
   "codemirror_mode": {
    "name": "ipython",
    "version": 3
   },
   "file_extension": ".py",
   "mimetype": "text/x-python",
   "name": "python",
   "nbconvert_exporter": "python",
   "pygments_lexer": "ipython3",
   "version": "3.11.9"
  }
 },
 "nbformat": 4,
 "nbformat_minor": 4
}
